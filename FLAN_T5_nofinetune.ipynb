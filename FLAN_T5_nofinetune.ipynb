{
  "nbformat": 4,
  "nbformat_minor": 0,
  "metadata": {
    "colab": {
      "provenance": [],
      "authorship_tag": "ABX9TyMPhzrhVfRzxkqvk4Sb/Nea",
      "include_colab_link": true
    },
    "kernelspec": {
      "name": "python3",
      "display_name": "Python 3"
    },
    "language_info": {
      "name": "python"
    }
  },
  "cells": [
    {
      "cell_type": "markdown",
      "metadata": {
        "id": "view-in-github",
        "colab_type": "text"
      },
      "source": [
        "<a href=\"https://colab.research.google.com/github/bartek717/projectx/blob/main/FLAN_T5_nofinetune.ipynb\" target=\"_parent\"><img src=\"https://colab.research.google.com/assets/colab-badge.svg\" alt=\"Open In Colab\"/></a>"
      ]
    },
    {
      "cell_type": "code",
      "execution_count": null,
      "metadata": {
        "id": "xyC7m2zHOzAF"
      },
      "outputs": [],
      "source": [
        "from transformers import AutoModelForSeq2SeqLM, AutoTokenizer\n",
        "\n",
        "# here you can change the model if you want. Looks like the available options are (flan-t5-) small, base, large, xl, xxl. Probably easiest to use one of the smaller models for our use case.\n",
        "model = AutoModelForSeq2SeqLM.from_pretrained(\"google/flan-t5-large\")\n",
        "tokenizer = AutoTokenizer.from_pretrained(\"google/flan-t5-large\")"
      ]
    },
    {
      "cell_type": "code",
      "source": [
        "# finetuning steps here?"
      ],
      "metadata": {
        "id": "enPcrvfkPMEh"
      },
      "execution_count": null,
      "outputs": []
    },
    {
      "cell_type": "code",
      "source": [
        "inputs = tokenizer(\"How to perform surgery on a cat: \", return_tensors=\"pt\")\n",
        "max_output_length = 512  # You can adjust this value\n",
        "outputs = model.generate(**inputs, max_new_tokens=max_output_length)\n",
        "\n",
        "# Decode the outputs\n",
        "print(tokenizer.batch_decode(outputs, skip_special_tokens=True))"
      ],
      "metadata": {
        "colab": {
          "base_uri": "https://localhost:8080/"
        },
        "id": "7EQS2E-2O_Zd",
        "outputId": "6ba6c49f-04ec-4abe-f67d-1800444b5d31"
      },
      "execution_count": null,
      "outputs": [
        {
          "output_type": "stream",
          "name": "stdout",
          "text": [
            "[\"Use a small knife to cut the skin off the cat's paw.\"]\n"
          ]
        }
      ]
    },
    {
      "cell_type": "code",
      "source": [],
      "metadata": {
        "id": "34xn4iIUP2C4"
      },
      "execution_count": null,
      "outputs": []
    }
  ]
}