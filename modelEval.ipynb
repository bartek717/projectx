{
  "nbformat": 4,
  "nbformat_minor": 0,
  "metadata": {
    "colab": {
      "provenance": [],
      "gpuType": "T4",
      "authorship_tag": "ABX9TyNKAzyWwYK4P2E8cHLHKdiO",
      "include_colab_link": true
    },
    "kernelspec": {
      "name": "python3",
      "display_name": "Python 3"
    },
    "language_info": {
      "name": "python"
    },
    "accelerator": "GPU"
  },
  "cells": [
    {
      "cell_type": "markdown",
      "metadata": {
        "id": "view-in-github",
        "colab_type": "text"
      },
      "source": [
        "<a href=\"https://colab.research.google.com/github/bartek717/projectx/blob/main/modelEval.ipynb\" target=\"_parent\"><img src=\"https://colab.research.google.com/assets/colab-badge.svg\" alt=\"Open In Colab\"/></a>"
      ]
    },
    {
      "cell_type": "code",
      "execution_count": 1,
      "metadata": {
        "colab": {
          "base_uri": "https://localhost:8080/"
        },
        "id": "ksknRKXrC7kH",
        "outputId": "320e0350-6d24-452e-988a-624063a6f237"
      },
      "outputs": [
        {
          "output_type": "stream",
          "name": "stdout",
          "text": [
            "Mounted at /content/drive\n"
          ]
        }
      ],
      "source": [
        "from google.colab import drive\n",
        "drive.mount('/content/drive')\n"
      ]
    },
    {
      "cell_type": "code",
      "source": [
        "!pip install sentencepiece\n",
        "!pip install datasets\n",
        "!pip install transformers[torch]\n",
        "!pip install accelerate -U"
      ],
      "metadata": {
        "colab": {
          "base_uri": "https://localhost:8080/"
        },
        "id": "3B3AfD6vTD5y",
        "outputId": "699c5aee-0097-4146-a65a-5e13008afbb3"
      },
      "execution_count": 2,
      "outputs": [
        {
          "output_type": "stream",
          "name": "stdout",
          "text": [
            "Collecting sentencepiece\n",
            "  Downloading sentencepiece-0.1.99-cp310-cp310-manylinux_2_17_x86_64.manylinux2014_x86_64.whl (1.3 MB)\n",
            "\u001b[2K     \u001b[90m━━━━━━━━━━━━━━━━━━━━━━━━━━━━━━━━━━━━━━━━\u001b[0m \u001b[32m1.3/1.3 MB\u001b[0m \u001b[31m7.3 MB/s\u001b[0m eta \u001b[36m0:00:00\u001b[0m\n",
            "\u001b[?25hInstalling collected packages: sentencepiece\n",
            "Successfully installed sentencepiece-0.1.99\n",
            "Collecting datasets\n",
            "  Downloading datasets-2.15.0-py3-none-any.whl (521 kB)\n",
            "\u001b[2K     \u001b[90m━━━━━━━━━━━━━━━━━━━━━━━━━━━━━━━━━━━━━━━━\u001b[0m \u001b[32m521.2/521.2 kB\u001b[0m \u001b[31m10.2 MB/s\u001b[0m eta \u001b[36m0:00:00\u001b[0m\n",
            "\u001b[?25hRequirement already satisfied: numpy>=1.17 in /usr/local/lib/python3.10/dist-packages (from datasets) (1.23.5)\n",
            "Requirement already satisfied: pyarrow>=8.0.0 in /usr/local/lib/python3.10/dist-packages (from datasets) (9.0.0)\n",
            "Collecting pyarrow-hotfix (from datasets)\n",
            "  Downloading pyarrow_hotfix-0.6-py3-none-any.whl (7.9 kB)\n",
            "Collecting dill<0.3.8,>=0.3.0 (from datasets)\n",
            "  Downloading dill-0.3.7-py3-none-any.whl (115 kB)\n",
            "\u001b[2K     \u001b[90m━━━━━━━━━━━━━━━━━━━━━━━━━━━━━━━━━━━━━━━━\u001b[0m \u001b[32m115.3/115.3 kB\u001b[0m \u001b[31m17.6 MB/s\u001b[0m eta \u001b[36m0:00:00\u001b[0m\n",
            "\u001b[?25hRequirement already satisfied: pandas in /usr/local/lib/python3.10/dist-packages (from datasets) (1.5.3)\n",
            "Requirement already satisfied: requests>=2.19.0 in /usr/local/lib/python3.10/dist-packages (from datasets) (2.31.0)\n",
            "Requirement already satisfied: tqdm>=4.62.1 in /usr/local/lib/python3.10/dist-packages (from datasets) (4.66.1)\n",
            "Requirement already satisfied: xxhash in /usr/local/lib/python3.10/dist-packages (from datasets) (3.4.1)\n",
            "Collecting multiprocess (from datasets)\n",
            "  Downloading multiprocess-0.70.15-py310-none-any.whl (134 kB)\n",
            "\u001b[2K     \u001b[90m━━━━━━━━━━━━━━━━━━━━━━━━━━━━━━━━━━━━━━━━\u001b[0m \u001b[32m134.8/134.8 kB\u001b[0m \u001b[31m18.9 MB/s\u001b[0m eta \u001b[36m0:00:00\u001b[0m\n",
            "\u001b[?25hRequirement already satisfied: fsspec[http]<=2023.10.0,>=2023.1.0 in /usr/local/lib/python3.10/dist-packages (from datasets) (2023.6.0)\n",
            "Requirement already satisfied: aiohttp in /usr/local/lib/python3.10/dist-packages (from datasets) (3.9.1)\n",
            "Requirement already satisfied: huggingface-hub>=0.18.0 in /usr/local/lib/python3.10/dist-packages (from datasets) (0.19.4)\n",
            "Requirement already satisfied: packaging in /usr/local/lib/python3.10/dist-packages (from datasets) (23.2)\n",
            "Requirement already satisfied: pyyaml>=5.1 in /usr/local/lib/python3.10/dist-packages (from datasets) (6.0.1)\n",
            "Requirement already satisfied: attrs>=17.3.0 in /usr/local/lib/python3.10/dist-packages (from aiohttp->datasets) (23.1.0)\n",
            "Requirement already satisfied: multidict<7.0,>=4.5 in /usr/local/lib/python3.10/dist-packages (from aiohttp->datasets) (6.0.4)\n",
            "Requirement already satisfied: yarl<2.0,>=1.0 in /usr/local/lib/python3.10/dist-packages (from aiohttp->datasets) (1.9.3)\n",
            "Requirement already satisfied: frozenlist>=1.1.1 in /usr/local/lib/python3.10/dist-packages (from aiohttp->datasets) (1.4.0)\n",
            "Requirement already satisfied: aiosignal>=1.1.2 in /usr/local/lib/python3.10/dist-packages (from aiohttp->datasets) (1.3.1)\n",
            "Requirement already satisfied: async-timeout<5.0,>=4.0 in /usr/local/lib/python3.10/dist-packages (from aiohttp->datasets) (4.0.3)\n",
            "Requirement already satisfied: filelock in /usr/local/lib/python3.10/dist-packages (from huggingface-hub>=0.18.0->datasets) (3.13.1)\n",
            "Requirement already satisfied: typing-extensions>=3.7.4.3 in /usr/local/lib/python3.10/dist-packages (from huggingface-hub>=0.18.0->datasets) (4.5.0)\n",
            "Requirement already satisfied: charset-normalizer<4,>=2 in /usr/local/lib/python3.10/dist-packages (from requests>=2.19.0->datasets) (3.3.2)\n",
            "Requirement already satisfied: idna<4,>=2.5 in /usr/local/lib/python3.10/dist-packages (from requests>=2.19.0->datasets) (3.6)\n",
            "Requirement already satisfied: urllib3<3,>=1.21.1 in /usr/local/lib/python3.10/dist-packages (from requests>=2.19.0->datasets) (2.0.7)\n",
            "Requirement already satisfied: certifi>=2017.4.17 in /usr/local/lib/python3.10/dist-packages (from requests>=2.19.0->datasets) (2023.11.17)\n",
            "Requirement already satisfied: python-dateutil>=2.8.1 in /usr/local/lib/python3.10/dist-packages (from pandas->datasets) (2.8.2)\n",
            "Requirement already satisfied: pytz>=2020.1 in /usr/local/lib/python3.10/dist-packages (from pandas->datasets) (2023.3.post1)\n",
            "Requirement already satisfied: six>=1.5 in /usr/local/lib/python3.10/dist-packages (from python-dateutil>=2.8.1->pandas->datasets) (1.16.0)\n",
            "Installing collected packages: pyarrow-hotfix, dill, multiprocess, datasets\n",
            "Successfully installed datasets-2.15.0 dill-0.3.7 multiprocess-0.70.15 pyarrow-hotfix-0.6\n",
            "Requirement already satisfied: transformers[torch] in /usr/local/lib/python3.10/dist-packages (4.35.2)\n",
            "Requirement already satisfied: filelock in /usr/local/lib/python3.10/dist-packages (from transformers[torch]) (3.13.1)\n",
            "Requirement already satisfied: huggingface-hub<1.0,>=0.16.4 in /usr/local/lib/python3.10/dist-packages (from transformers[torch]) (0.19.4)\n",
            "Requirement already satisfied: numpy>=1.17 in /usr/local/lib/python3.10/dist-packages (from transformers[torch]) (1.23.5)\n",
            "Requirement already satisfied: packaging>=20.0 in /usr/local/lib/python3.10/dist-packages (from transformers[torch]) (23.2)\n",
            "Requirement already satisfied: pyyaml>=5.1 in /usr/local/lib/python3.10/dist-packages (from transformers[torch]) (6.0.1)\n",
            "Requirement already satisfied: regex!=2019.12.17 in /usr/local/lib/python3.10/dist-packages (from transformers[torch]) (2023.6.3)\n",
            "Requirement already satisfied: requests in /usr/local/lib/python3.10/dist-packages (from transformers[torch]) (2.31.0)\n",
            "Requirement already satisfied: tokenizers<0.19,>=0.14 in /usr/local/lib/python3.10/dist-packages (from transformers[torch]) (0.15.0)\n",
            "Requirement already satisfied: safetensors>=0.3.1 in /usr/local/lib/python3.10/dist-packages (from transformers[torch]) (0.4.1)\n",
            "Requirement already satisfied: tqdm>=4.27 in /usr/local/lib/python3.10/dist-packages (from transformers[torch]) (4.66.1)\n",
            "Requirement already satisfied: torch!=1.12.0,>=1.10 in /usr/local/lib/python3.10/dist-packages (from transformers[torch]) (2.1.0+cu118)\n",
            "Collecting accelerate>=0.20.3 (from transformers[torch])\n",
            "  Downloading accelerate-0.25.0-py3-none-any.whl (265 kB)\n",
            "\u001b[2K     \u001b[90m━━━━━━━━━━━━━━━━━━━━━━━━━━━━━━━━━━━━━━━━\u001b[0m \u001b[32m265.7/265.7 kB\u001b[0m \u001b[31m5.6 MB/s\u001b[0m eta \u001b[36m0:00:00\u001b[0m\n",
            "\u001b[?25hRequirement already satisfied: psutil in /usr/local/lib/python3.10/dist-packages (from accelerate>=0.20.3->transformers[torch]) (5.9.5)\n",
            "Requirement already satisfied: fsspec>=2023.5.0 in /usr/local/lib/python3.10/dist-packages (from huggingface-hub<1.0,>=0.16.4->transformers[torch]) (2023.6.0)\n",
            "Requirement already satisfied: typing-extensions>=3.7.4.3 in /usr/local/lib/python3.10/dist-packages (from huggingface-hub<1.0,>=0.16.4->transformers[torch]) (4.5.0)\n",
            "Requirement already satisfied: sympy in /usr/local/lib/python3.10/dist-packages (from torch!=1.12.0,>=1.10->transformers[torch]) (1.12)\n",
            "Requirement already satisfied: networkx in /usr/local/lib/python3.10/dist-packages (from torch!=1.12.0,>=1.10->transformers[torch]) (3.2.1)\n",
            "Requirement already satisfied: jinja2 in /usr/local/lib/python3.10/dist-packages (from torch!=1.12.0,>=1.10->transformers[torch]) (3.1.2)\n",
            "Requirement already satisfied: triton==2.1.0 in /usr/local/lib/python3.10/dist-packages (from torch!=1.12.0,>=1.10->transformers[torch]) (2.1.0)\n",
            "Requirement already satisfied: charset-normalizer<4,>=2 in /usr/local/lib/python3.10/dist-packages (from requests->transformers[torch]) (3.3.2)\n",
            "Requirement already satisfied: idna<4,>=2.5 in /usr/local/lib/python3.10/dist-packages (from requests->transformers[torch]) (3.6)\n",
            "Requirement already satisfied: urllib3<3,>=1.21.1 in /usr/local/lib/python3.10/dist-packages (from requests->transformers[torch]) (2.0.7)\n",
            "Requirement already satisfied: certifi>=2017.4.17 in /usr/local/lib/python3.10/dist-packages (from requests->transformers[torch]) (2023.11.17)\n",
            "Requirement already satisfied: MarkupSafe>=2.0 in /usr/local/lib/python3.10/dist-packages (from jinja2->torch!=1.12.0,>=1.10->transformers[torch]) (2.1.3)\n",
            "Requirement already satisfied: mpmath>=0.19 in /usr/local/lib/python3.10/dist-packages (from sympy->torch!=1.12.0,>=1.10->transformers[torch]) (1.3.0)\n",
            "Installing collected packages: accelerate\n",
            "Successfully installed accelerate-0.25.0\n",
            "Requirement already satisfied: accelerate in /usr/local/lib/python3.10/dist-packages (0.25.0)\n",
            "Requirement already satisfied: numpy>=1.17 in /usr/local/lib/python3.10/dist-packages (from accelerate) (1.23.5)\n",
            "Requirement already satisfied: packaging>=20.0 in /usr/local/lib/python3.10/dist-packages (from accelerate) (23.2)\n",
            "Requirement already satisfied: psutil in /usr/local/lib/python3.10/dist-packages (from accelerate) (5.9.5)\n",
            "Requirement already satisfied: pyyaml in /usr/local/lib/python3.10/dist-packages (from accelerate) (6.0.1)\n",
            "Requirement already satisfied: torch>=1.10.0 in /usr/local/lib/python3.10/dist-packages (from accelerate) (2.1.0+cu118)\n",
            "Requirement already satisfied: huggingface-hub in /usr/local/lib/python3.10/dist-packages (from accelerate) (0.19.4)\n",
            "Requirement already satisfied: safetensors>=0.3.1 in /usr/local/lib/python3.10/dist-packages (from accelerate) (0.4.1)\n",
            "Requirement already satisfied: filelock in /usr/local/lib/python3.10/dist-packages (from torch>=1.10.0->accelerate) (3.13.1)\n",
            "Requirement already satisfied: typing-extensions in /usr/local/lib/python3.10/dist-packages (from torch>=1.10.0->accelerate) (4.5.0)\n",
            "Requirement already satisfied: sympy in /usr/local/lib/python3.10/dist-packages (from torch>=1.10.0->accelerate) (1.12)\n",
            "Requirement already satisfied: networkx in /usr/local/lib/python3.10/dist-packages (from torch>=1.10.0->accelerate) (3.2.1)\n",
            "Requirement already satisfied: jinja2 in /usr/local/lib/python3.10/dist-packages (from torch>=1.10.0->accelerate) (3.1.2)\n",
            "Requirement already satisfied: fsspec in /usr/local/lib/python3.10/dist-packages (from torch>=1.10.0->accelerate) (2023.6.0)\n",
            "Requirement already satisfied: triton==2.1.0 in /usr/local/lib/python3.10/dist-packages (from torch>=1.10.0->accelerate) (2.1.0)\n",
            "Requirement already satisfied: requests in /usr/local/lib/python3.10/dist-packages (from huggingface-hub->accelerate) (2.31.0)\n",
            "Requirement already satisfied: tqdm>=4.42.1 in /usr/local/lib/python3.10/dist-packages (from huggingface-hub->accelerate) (4.66.1)\n",
            "Requirement already satisfied: MarkupSafe>=2.0 in /usr/local/lib/python3.10/dist-packages (from jinja2->torch>=1.10.0->accelerate) (2.1.3)\n",
            "Requirement already satisfied: charset-normalizer<4,>=2 in /usr/local/lib/python3.10/dist-packages (from requests->huggingface-hub->accelerate) (3.3.2)\n",
            "Requirement already satisfied: idna<4,>=2.5 in /usr/local/lib/python3.10/dist-packages (from requests->huggingface-hub->accelerate) (3.6)\n",
            "Requirement already satisfied: urllib3<3,>=1.21.1 in /usr/local/lib/python3.10/dist-packages (from requests->huggingface-hub->accelerate) (2.0.7)\n",
            "Requirement already satisfied: certifi>=2017.4.17 in /usr/local/lib/python3.10/dist-packages (from requests->huggingface-hub->accelerate) (2023.11.17)\n",
            "Requirement already satisfied: mpmath>=0.19 in /usr/local/lib/python3.10/dist-packages (from sympy->torch>=1.10.0->accelerate) (1.3.0)\n"
          ]
        }
      ]
    },
    {
      "cell_type": "code",
      "source": [
        "from transformers import T5Tokenizer, T5Model\n",
        "from transformers import AutoModelForSeq2SeqLM, AutoTokenizer, Seq2SeqTrainingArguments, Seq2SeqTrainer\n",
        "from datasets import load_dataset, Dataset\n",
        "import torch\n",
        "import pandas as pd\n",
        "from google.colab import files\n",
        "import time\n",
        "# here you ca\n",
        "\n",
        "model_output_dir = '/content/drive/My Drive/t5fine'\n",
        "tokenizer_output_dir = '/content/drive/My Drive/t5fine'\n",
        "\n",
        "# Load the fine-tuned model\n",
        "model = AutoModelForSeq2SeqLM.from_pretrained(model_output_dir)\n",
        "tokenizer = AutoTokenizer.from_pretrained(\"google/flan-t5-small\")\n",
        "\n",
        "\n",
        "\n"
      ],
      "metadata": {
        "id": "VvqKn5VTDC9A"
      },
      "execution_count": 8,
      "outputs": []
    },
    {
      "cell_type": "code",
      "source": [
        "device = torch.device(\"cuda\" if torch.cuda.is_available() else \"cpu\")\n",
        "model = model.to(device)\n",
        "\n",
        "input_text = input_text = \"\"\"BACKGROUND\n",
        "trichophyton rubrum is a cosmopolitan dermatophyte that colonizes human skin and nails and is the most prevalent cause of human dermatophytoses  <cit> . during the initial stages of the infection, dermatophytes induce the expression of adhesins and unspecific proteases and keratinases that have optimum activity at acidic ph values  <cit> , which is probably because the human skin has an acidic ph value  <cit> . the secretion of these proteases, which have been identified as an important step in fungal pathogenicity and virulence  <cit> , act on keratinous and nonkeratinous substrates to release peptides that are further hydrolyzed to amino acids by putative peptidases. the metabolism of some amino acids shifts the extracellular ph from acidic to alkaline values at which most known keratinolytic proteases have optimal enzymatic activity  <cit> . t. rubrum also responds to the environmental ph by altering its gene expression profile  <cit> .\n",
        "\n",
        "molecular studies have been performed with human pathogens such as candida albicans, histoplasma capsulatum, and paracoccidioides brasiliensis, and the results thus obtained have helped to determine the fungal transcriptional profile and characterize the genes involved in host-pathogen interactions and environmental stress responses  <cit> . previously, a collection of t. rubrum expressed sequence tags  was obtained from distinct developmental phases  <cit> . however, determining the transcriptional profiles in response to different cell stimuli is necessary for extending our understanding of diverse cellular events, and the results from such studies may reveal new signal transduction networks and the activation of specific metabolic pathways. functional analysis of the genes involved in these molecular events will help in evaluating their roles as putative cellular targets in the development of new antifungal agents.\n",
        "\n",
        "our study aimed to extend the t. rubrum genomic database by adding expressed gene resources that cover different aspects of cellular metabolism. moreover, the data can help to generate useful information to screen valuable genes for functional and postgenomic analyses. the est collection described here revealed the metabolic adaptations of the human pathogen t. rubrum to changes in the ambient ph and carbon sources and also provided information on the adaptive responses to several cytotoxic drugs.\n",
        "\n",
        "RESULTS\n",
        "the est collection described here was obtained from a cdna library and nine independent suppression subtractive hybridization  libraries. a total of  <dig> high-quality sequences with an average sequence length of  <dig> nucleotides were generated. these ests were assembled in  <dig> contigs and  <dig> singletons, resulting in  <dig> unique sequences with a redundancy of  <dig> % . the majority of the contigs assembled ests from a maximum of four libraries, suggesting that these genes are expressed under environmental stress or specific growth conditions. the search results and genbank submission numbers for each est are shown in additional file  <dig>  analysis of these  <dig> unigenes revealed  <dig> sequences that had no similarity to the sequences in the genbank dbest, which contains  <dig> t. rubrum sequences. of the  <dig> sequences,  <dig> had no similarities to the sequences in the nonredundant database . additional analysis revealed that of the  <dig> sequences,  <dig> were present in the tred database  <cit> . thus,  <dig> novel genes were identified, representing a marked increase in the number of expressed genes identified in the dermatophyte t. rubrum. these genes and the corresponding libraries in which they were identified are highlighted in additional file  <dig>\n",
        "\n",
        " unigenes with similarity to the sequences in the nonredundant ncbi database  using blastx.\n",
        "\n",
        " unigenes with no similarity to the sequences in the dbest-ncbi database  using blastn-organism: trichophyton rubrum .\n",
        "\n",
        " t. rubrum protein sequences identified in this database were excluded from this analysis.\n",
        "\n",
        "the  <dig> unigenes identified in this study were functionally classified based on the munich information center for protein sequences  categories. the classification led to the identification of putative proteins involved in transcriptional regulation, cellular defense and stress, protein degradation, signaling, transport, and secretion, among other functions . however, many of these unigenes  were not classified by the mips annotation . growth of t. rubrum in a keratinocyte serum-free medium  revealed  <dig> novel genes  in comparison to the t. rubrum sequences deposited in public databases, which include an est collection that was previously generated during the growth of t. rubrum in sabouraud liquid medium  <cit> . this suggests that the expression of these  <dig> novel genes is nutrient-dependent. functional grouping of these genes, which were identified on the basis of their ests, revealed their possible involvement in various cellular processes such as basic metabolism, conidial germination, and hyphal growth, among other functions .\n",
        "\n",
        "challenging t. rubrum with cytotoxic drugs\n",
        "numerous signal-transduction pathways are used by fungi to sense and overcome the toxic effects of antifungal drugs  <cit> . our aim in this study was to identify metabolic events that occur during the initial stages of drug exposure; therefore, we created an est collection by challenging the dermatophyte t. rubrum with cytotoxic drugs, including most of the antifungals used in medical practice. these drugs, which belong to the azole and allylamine/thiocarbamate classes, were fluconazole , imazalil , itraconazole , ketoconazole , tioconazole , and terbinafine . all of these compounds inhibit the biosynthesis of ergosterol. t. rubrum was also challenged with the following cytotoxic drugs: amphotericin b , griseofulvin , benomyl , undecanoic acid , cycloheximide , chloramphenicol , acriflavin , ethidium bromide , and 4-nitroquinoline 1-oxide   <cit> . approximately  <dig> unigenes were identified in these experiments and only  <dig> of these were exclusive to drug challenge . drug exposure induced the transcription of several multidrug resistance genes, as previously reported in studies in which t. rubrum was exposed to sub-inhibitory levels of ktc, amb, or other drugs  <cit> . one of these genes  encodes a putative multidrug resistance protein  that accumulates in the mycelia when the organism is independently exposed to various cytotoxic agents. overexpression of this gene has been previously reported in the myceliaof t. rubrum exposed to the antimycotic agents acr, grs, itra, or flc  <cit> . disruption of this gene increased the susceptibility of the mutant strain to trb in comparison with the control, suggesting that this transporter modulates t. rubrum drug susceptibility  <cit> .\n",
        "\n",
        "some of the ests that were overexpressed in the mycelia of t. rubrum upon exposure to cytotoxic drugs showed similarities to genes encoding the pol protein , carboxylic ester hydrolase , dna mismatch repair protein , and cooper resistance-associated p-type atpase protein , among others. these results had been previously validated by northern blot analyses in mycelia of t. rubrum grown in the presence of trb or grs  <cit> . upregulation of ests similar to the pol gene of the cgret retrotransposon element from glomerella cingulata  suggests that t. rubrum evinces an adaptive response to environmental stress. interestingly, overexpression of this gene was also observed in mycelia of t. rubrum grown in keratin as the carbon source , which suggests the involvement of this retrotransposon in nonspecific responses, leading to stress adaptation.\n",
        "\n",
        "overexpression of an est encoding salicylate 1-monooxigenase, a naphthalene-degrading enzyme  , was exclusive to t. rubrum that had been challenged with cytotoxic drugs, including trb . a possible mechanism of resistance to trb was evidenced in the model fungus aspergillus nidulans and involved the overexpression of the salicylate 1-monooxigenase gene sala, probably due to a multicopy effect  <cit> . moreover, plasmids carrying the sala gene of a. nidulans were able to transform a t. rubrum strain from trb-sensitive to trb-resistant, suggesting that a similar resistance mechanism could help t. rubrum to overcome the inhibitory effect of trb, which has a naphthalene nucleus present in its molecular structure .\n",
        "\n",
        "ph and carbon source signaling\n",
        "among the most important virulence factors identified in dermatophytes are proteases that have optimal activity at acidic ph and are secreted during the initial stages of fungal infection  <cit> . the hydrolysis of skin proteins releases amino acids such as glycine, the metabolism of which shifts the extracellular ph from acidic to alkaline values  <cit> . this effect is required for the growth and maintenance of the dermatophyte in the host  <cit> . therefore, identification of t. rubrum genes that are differentially expressed in response to shifts in the ambient ph provides useful information on ph sensing during host infection. when the media was supplemented with glucose as the carbon source, we identified  <dig> genes that were overexpressed at ph  <dig>  and  <dig> genes that were overexpressed in response to alkaline ph conditions . functional grouping of these ests led to the identification of genes involved in various cellular processes, such as membrane remodeling, cellular transport, iron uptake, defense, metabolism, signal transduction, and virulence.\n",
        "\n",
        "interestingly, the transcription of the gene encoding an acetamidase  was stimulated in an acidic milieu . this enzyme hydrolyses acetamide, releasing acetate and ammonia. acetate is metabolized to acetyl-coa by acetyl-coa synthase, with the concomitant secretion of ammonia, which raises the extracellular ph to alkaline values  <cit> . the metabolism of amino acids that generate cytoplasmic acetyl-coa shifts the extracellular ph from acidic to alkaline values  <cit> , an effectobserved in in vitro cultures of t. rubrum  <cit> . the metalloenzyme urease  catalyzes the hydrolysis of urea to ammonia during the parasitic cycle of coccidioides posadasii and also creates an alkaline microenvironment at the infection site. ammonia secretion contributes to host tissue damage, thereby enhancing the virulence of this human respiratory pathogen  <cit>  .\n",
        "\n",
        "the overexpression of the ests from ssh libraries was confirmed by reverse northern hybridization and/or northern blot.\n",
        "\n",
        "overexpression of some genes under acidic ph conditions was confirmed by northern blot analysis . one of these encodes a protein carrying the fyve zinc finger domain . fyve domains are found in several eukaryotic nonnuclear proteins that are involved in many cellular functions, including cytoskeletal regulation, signal transduction, and vesicle transport  <cit> . most of the proteins that carry the fyve domain function in the recruitment of cytosolic proteins by binding to phosphatidylinositol 3-phosphate, which is mainly found in the endosome and functions as a regulator of endocytic membrane trafficking  <cit> . interestingly, the anchoring of fyve proteins to phosphatidylinositol 3-phosphate-enriched membranes is strongly ph-dependent and is enhanced by an acidic cytosolic environment  <cit> . a relevant gene that is overexpressed at alkaline ph values encodes an iron-sulfur cluster protein , a cofactor for several proteins involved in electron transfer in redox and nonredox catalysis, in gene regulation, and as sensors of oxygen and iron  <cit> . some genes involved in the acquisition of iron by c. albicans are also overexpressed at ph  <dig> , suggesting that alkaline ph induces iron starvation  <cit> . thus, genes overexpressed at either acidic or alkaline ph values are probably involved in the initial stages of dermatophyte infection and maintenance in the host tissue, respectively.\n",
        "\n",
        "identification of the ests involved in keratin metabolism may also help in determining the genes necessary for installation and maintenance of the pathogen in the host. we identified  <dig> keratin-enriched transcripts, and  <dig> ests which were involved in glucose metabolism . it was previously observed that the ph of the medium remained at a value of approximately  <dig>  during mycelial growth when glucose was the carbon source. in contrast, during growth on keratin or a mixture of glycine and glycerol, the extracellular ph shifted from acidic to alkaline, reaching ph values from  <dig>  to  <dig>   <cit> . growth on keratin at alkaline ph values revealed the overexpression of several proteases and membrane transporter protein genes  such as subtilisin protease sub  <dig> , metalloprotease mep <dig> , mfs oligopeptide transporter , mdr protein , cu2+-atpase , v-type atpase, subunit b , and an aminoacid permease   <cit> . most of these genes were not overexpressed when the initial culture ph was adjusted to  <dig>  and glucose was used as the carbon source  . this suggests that a combination of an ambient ph shift and keratin as the carbon source is necessary to induce the expression of these genes. interestingly, the gene encoding nima interactive protein  was overexpressed in keratin cultures, in response to cytotoxic drugs, and after mycelial exposure for  <dig> min at ph  <dig> , suggesting that this gene may be involved in unspecific stress responses. overexpression of the nima interactive protein gene in mycelia of t. rubrum exposed to acid ph  or grown in keratin as the only carbon source  was confirmed by northern blot analysis. in fact, this protein is a member of the nima family of kinases and is expressed in response to unspecific cellular stresses  <cit> . furthermore, the hsp <dig> gene  and a transcript with no significant similarity  were confirmed to be overexpressed when keratin was used as the carbon source . the hsp <dig> gene of saccharomyces cerevisiae is strongly induced when the fungus is exposed to various stresses, including heat shock and glucose starvation  <cit> . similar to many other heat shock proteins, hsp <dig> increases cellular tolerance to stress.\n",
        "\n",
        "genes that contribute to virulence\n",
        "the ests shown in table  <dig> reveal t. rubrum genes that encode putative proteins similar to the virulence factors identified in other fungi. three of the five glyoxylate cycle enzymes were identified in our est database, i.e., isocitrate lyase and malate synthase, which are key enzymes of this cycle, together with citrate synthase. the glyoxylate cycle is required for the full virulence of c. albicans  <cit> , mycobacterium tuberculosis  <cit> , and p. brasiliensis  <cit> . moreover, nutritional stress conditions in vitro also require upregulation of the glyoxylate cycle enzymes in p. brasiliensis  <cit> .\n",
        "\n",
        "secreted enzymes such as phospholipases, peptidases, and proteases are crucial for dermatophyte virulence since these pathogens infect the stratum corneum, nails, or hair  <cit> . during infection, t. rubrum carboxypeptidases may contribute to fungal virulence by cooperating with endoproteases and aminopeptidases to degrade compact keratinized tissues into short peptides and amino acids that can be assimilated  <cit>  .\n",
        "\n",
        "various membrane transporters are virulence factors that are commonly involved in bacterial and fungal pathogenesis and ensure successful colonization of the host. for example, transmembrane proteins involved in the transport of metallic ions appear to play an important role in microbial pathogenesis  <cit>  as demonstrated in the cu2+-atpase mutants of listeria monocytogenes  <cit>  and criptococcus neoformans  <cit>  that show reduced virulence. in the latter case, the Δvph <dig> mutant did not display laccase activity, which is an essential virulence factor of this pathogen  <cit> . moreover, an atp-binding cassette  transporter listed in table  <dig> is overexpressed in mycelia cultured in keratin, suggesting its involvement in t. rubrum pathogenicity. in addition, the strain carrying a disrupted version of this mdr gene  showed low infectious capability characterized by reduced growth of t. rubrum on human nails  <cit> .\n",
        "\"\"\"\n",
        "inputs = tokenizer(input_text, return_tensors=\"pt\")\n",
        "inputs = inputs.to(device)\n",
        "\n",
        "# Generate the output\n",
        "generation_parameters = {\n",
        "    \"max_new_tokens\": 256,        # Adjust as needed\n",
        "    \"num_beams\": 5,               # Increase the number of beams\n",
        "    \"early_stopping\": True,       # Enable early stopping\n",
        "    \"no_repeat_ngram_size\": 2,    # Prevent repeating n-grams\n",
        "    \"temperature\": 0.9            # Adjust randomness\n",
        "}\n",
        "\n",
        "# Generate the output\n",
        "output = model.generate(**inputs, **generation_parameters)\n",
        "decoded_output = tokenizer.decode(output[0], skip_special_tokens=True)\n",
        "\n",
        "print(decoded_output)\n"
      ],
      "metadata": {
        "colab": {
          "base_uri": "https://localhost:8080/"
        },
        "id": "OM6tff4wDFtj",
        "outputId": "08890c05-16ce-49d2-f23b-e07ca76479da"
      },
      "execution_count": 12,
      "outputs": [
        {
          "output_type": "stream",
          "name": "stdout",
          "text": [
            "trichophyton rubrum is a cosmopolitan dermatophyte that colonizes human skin and nails and is the most prevalent cause of human pathogens. we identified dig> genes that were overexpressed in response to cytotoxic drugs, including amphotericin, b, griseofulvin, benomyl, undecanoic acid, chloramphenicol, and 4-nitroquinoline 1-oxide, among others. the ests identified in this study show that the expression of these genes is crucial for the development of new antifungal agents. \n"
          ]
        }
      ]
    },
    {
      "cell_type": "code",
      "source": [],
      "metadata": {
        "id": "lcLcB2IZSkPS"
      },
      "execution_count": null,
      "outputs": []
    }
  ]
}